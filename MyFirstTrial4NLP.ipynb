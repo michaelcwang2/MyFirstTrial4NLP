{
 "cells": [
  {
   "cell_type": "code",
   "execution_count": 71,
   "metadata": {},
   "outputs": [],
   "source": [
    "#import pandas"
   ]
  },
  {
   "cell_type": "code",
   "execution_count": 72,
   "metadata": {},
   "outputs": [],
   "source": [
    "import pandas as pd"
   ]
  },
  {
   "cell_type": "code",
   "execution_count": 73,
   "metadata": {},
   "outputs": [
    {
     "data": {
      "text/plain": [
       "'0.20.3'"
      ]
     },
     "execution_count": 73,
     "metadata": {},
     "output_type": "execute_result"
    }
   ],
   "source": [
    "pd.__version__"
   ]
  },
  {
   "cell_type": "code",
   "execution_count": 74,
   "metadata": {},
   "outputs": [],
   "source": [
    "metadata=pd.read_csv('DOHMH_New_York_City_Restaurant_Inspection_Results0620.csv', engine='python')"
   ]
  },
  {
   "cell_type": "code",
   "execution_count": 75,
   "metadata": {},
   "outputs": [
    {
     "data": {
      "text/html": [
       "<div>\n",
       "<style>\n",
       "    .dataframe thead tr:only-child th {\n",
       "        text-align: right;\n",
       "    }\n",
       "\n",
       "    .dataframe thead th {\n",
       "        text-align: left;\n",
       "    }\n",
       "\n",
       "    .dataframe tbody tr th {\n",
       "        vertical-align: top;\n",
       "    }\n",
       "</style>\n",
       "<table border=\"1\" class=\"dataframe\">\n",
       "  <thead>\n",
       "    <tr style=\"text-align: right;\">\n",
       "      <th></th>\n",
       "      <th>CAMIS</th>\n",
       "      <th>DBA</th>\n",
       "      <th>BORO</th>\n",
       "      <th>BUILDING</th>\n",
       "      <th>STREET</th>\n",
       "      <th>ZIPCODE</th>\n",
       "      <th>PHONE</th>\n",
       "      <th>CUISINE DESCRIPTION</th>\n",
       "      <th>INSPECTION DATE</th>\n",
       "      <th>ACTION</th>\n",
       "      <th>VIOLATION CODE</th>\n",
       "      <th>VIOLATION DESCRIPTION</th>\n",
       "      <th>CRITICAL FLAG</th>\n",
       "      <th>SCORE</th>\n",
       "      <th>GRADE</th>\n",
       "      <th>GRADE DATE</th>\n",
       "      <th>RECORD DATE</th>\n",
       "      <th>INSPECTION TYPE</th>\n",
       "    </tr>\n",
       "  </thead>\n",
       "  <tbody>\n",
       "    <tr>\n",
       "      <th>0</th>\n",
       "      <td>41650270</td>\n",
       "      <td>WING HUA 508</td>\n",
       "      <td>BROOKLYN</td>\n",
       "      <td>508</td>\n",
       "      <td>COURT STREET</td>\n",
       "      <td>11231</td>\n",
       "      <td>7188558797</td>\n",
       "      <td>Chinese</td>\n",
       "      <td>02/09/2015</td>\n",
       "      <td>Violations were cited in the following area(s).</td>\n",
       "      <td>10F</td>\n",
       "      <td>Non-food contact surface improperly constructe...</td>\n",
       "      <td>Not Critical</td>\n",
       "      <td>10.0</td>\n",
       "      <td>A</td>\n",
       "      <td>02/09/2015</td>\n",
       "      <td>06/18/2018</td>\n",
       "      <td>Cycle Inspection / Re-inspection</td>\n",
       "    </tr>\n",
       "    <tr>\n",
       "      <th>1</th>\n",
       "      <td>50014362</td>\n",
       "      <td>URUBAMBA</td>\n",
       "      <td>QUEENS</td>\n",
       "      <td>8620</td>\n",
       "      <td>37TH AVE</td>\n",
       "      <td>11372</td>\n",
       "      <td>7186722224</td>\n",
       "      <td>Peruvian</td>\n",
       "      <td>02/24/2018</td>\n",
       "      <td>Violations were cited in the following area(s).</td>\n",
       "      <td>08A</td>\n",
       "      <td>Facility not vermin proof. Harborage or condit...</td>\n",
       "      <td>Not Critical</td>\n",
       "      <td>16.0</td>\n",
       "      <td>B</td>\n",
       "      <td>02/24/2018</td>\n",
       "      <td>06/18/2018</td>\n",
       "      <td>Cycle Inspection / Re-inspection</td>\n",
       "    </tr>\n",
       "    <tr>\n",
       "      <th>2</th>\n",
       "      <td>40861669</td>\n",
       "      <td>NEW VICTORY RESTAURANT</td>\n",
       "      <td>BROOKLYN</td>\n",
       "      <td>4803</td>\n",
       "      <td>5 AVENUE</td>\n",
       "      <td>11220</td>\n",
       "      <td>7184312938</td>\n",
       "      <td>Chinese</td>\n",
       "      <td>05/02/2018</td>\n",
       "      <td>Violations were cited in the following area(s).</td>\n",
       "      <td>04L</td>\n",
       "      <td>Evidence of mice or live mice present in facil...</td>\n",
       "      <td>Critical</td>\n",
       "      <td>26.0</td>\n",
       "      <td>NaN</td>\n",
       "      <td>NaN</td>\n",
       "      <td>06/18/2018</td>\n",
       "      <td>Cycle Inspection / Initial Inspection</td>\n",
       "    </tr>\n",
       "  </tbody>\n",
       "</table>\n",
       "</div>"
      ],
      "text/plain": [
       "      CAMIS                     DBA      BORO BUILDING        STREET  ZIPCODE  \\\n",
       "0  41650270            WING HUA 508  BROOKLYN      508  COURT STREET    11231   \n",
       "1  50014362                URUBAMBA    QUEENS     8620      37TH AVE    11372   \n",
       "2  40861669  NEW VICTORY RESTAURANT  BROOKLYN     4803      5 AVENUE    11220   \n",
       "\n",
       "        PHONE CUISINE DESCRIPTION INSPECTION DATE  \\\n",
       "0  7188558797             Chinese      02/09/2015   \n",
       "1  7186722224            Peruvian      02/24/2018   \n",
       "2  7184312938             Chinese      05/02/2018   \n",
       "\n",
       "                                            ACTION VIOLATION CODE  \\\n",
       "0  Violations were cited in the following area(s).            10F   \n",
       "1  Violations were cited in the following area(s).            08A   \n",
       "2  Violations were cited in the following area(s).            04L   \n",
       "\n",
       "                               VIOLATION DESCRIPTION CRITICAL FLAG  SCORE  \\\n",
       "0  Non-food contact surface improperly constructe...  Not Critical   10.0   \n",
       "1  Facility not vermin proof. Harborage or condit...  Not Critical   16.0   \n",
       "2  Evidence of mice or live mice present in facil...      Critical   26.0   \n",
       "\n",
       "  GRADE  GRADE DATE RECORD DATE                        INSPECTION TYPE  \n",
       "0     A  02/09/2015  06/18/2018       Cycle Inspection / Re-inspection  \n",
       "1     B  02/24/2018  06/18/2018       Cycle Inspection / Re-inspection  \n",
       "2   NaN         NaN  06/18/2018  Cycle Inspection / Initial Inspection  "
      ]
     },
     "execution_count": 75,
     "metadata": {},
     "output_type": "execute_result"
    }
   ],
   "source": [
    "metadata.head(3)"
   ]
  },
  {
   "cell_type": "code",
   "execution_count": 76,
   "metadata": {},
   "outputs": [
    {
     "data": {
      "text/plain": [
       "0    Non-food contact surface improperly constructe...\n",
       "1    Facility not vermin proof. Harborage or condit...\n",
       "2    Evidence of mice or live mice present in facil...\n",
       "3    Bulb not shielded or shatterproof, in areas wh...\n",
       "4    Evidence of mice or live mice present in facil...\n",
       "Name: VIOLATION DESCRIPTION, dtype: object"
      ]
     },
     "execution_count": 76,
     "metadata": {},
     "output_type": "execute_result"
    }
   ],
   "source": [
    "metadata['VIOLATION DESCRIPTION'].head(5)"
   ]
  },
  {
   "cell_type": "code",
   "execution_count": 77,
   "metadata": {},
   "outputs": [],
   "source": [
    "#import TfIdfVectorizer and CountVectorizer from Scikit-Learn"
   ]
  },
  {
   "cell_type": "code",
   "execution_count": 78,
   "metadata": {},
   "outputs": [],
   "source": [
    "from sklearn.feature_extraction.text import TfidfVectorizer, CountVectorizer"
   ]
  },
  {
   "cell_type": "code",
   "execution_count": 79,
   "metadata": {},
   "outputs": [],
   "source": [
    "# NMF is able to use tf-idf"
   ]
  },
  {
   "cell_type": "code",
   "execution_count": 80,
   "metadata": {},
   "outputs": [],
   "source": [
    "tfidf_vectorizer=TfidfVectorizer(stop_words='english')"
   ]
  },
  {
   "cell_type": "code",
   "execution_count": 81,
   "metadata": {},
   "outputs": [],
   "source": [
    "#Replace NaN with an empty string"
   ]
  },
  {
   "cell_type": "code",
   "execution_count": 82,
   "metadata": {},
   "outputs": [],
   "source": [
    "metadata['VIOLATION DESCRIPTION'] = metadata['VIOLATION DESCRIPTION'].fillna('')"
   ]
  },
  {
   "cell_type": "code",
   "execution_count": 83,
   "metadata": {},
   "outputs": [],
   "source": [
    "tfidf=tfidf_vectorizer.fit_transform(metadata['VIOLATION DESCRIPTION'])"
   ]
  },
  {
   "cell_type": "code",
   "execution_count": 84,
   "metadata": {},
   "outputs": [
    {
     "data": {
      "text/plain": [
       "(3500, 411)"
      ]
     },
     "execution_count": 84,
     "metadata": {},
     "output_type": "execute_result"
    }
   ],
   "source": [
    "tfidf.shape"
   ]
  },
  {
   "cell_type": "code",
   "execution_count": 85,
   "metadata": {},
   "outputs": [],
   "source": [
    "tfidf_feature_names = tfidf_vectorizer.get_feature_names()"
   ]
  },
  {
   "cell_type": "code",
   "execution_count": 86,
   "metadata": {},
   "outputs": [],
   "source": [
    "# LDA can only use raw term counts for LDA because it is a probabilistic graphical model"
   ]
  },
  {
   "cell_type": "code",
   "execution_count": 87,
   "metadata": {},
   "outputs": [],
   "source": [
    "tf_vectorizer=CountVectorizer(stop_words='english')"
   ]
  },
  {
   "cell_type": "code",
   "execution_count": 88,
   "metadata": {},
   "outputs": [],
   "source": [
    "tf=tf_vectorizer.fit_transform(metadata['VIOLATION DESCRIPTION'])"
   ]
  },
  {
   "cell_type": "code",
   "execution_count": 89,
   "metadata": {},
   "outputs": [
    {
     "data": {
      "text/plain": [
       "(3500, 411)"
      ]
     },
     "execution_count": 89,
     "metadata": {},
     "output_type": "execute_result"
    }
   ],
   "source": [
    "tf.shape"
   ]
  },
  {
   "cell_type": "code",
   "execution_count": 90,
   "metadata": {},
   "outputs": [],
   "source": [
    "tf_feature_names = tf_vectorizer.get_feature_names()"
   ]
  },
  {
   "cell_type": "code",
   "execution_count": 91,
   "metadata": {},
   "outputs": [],
   "source": [
    "from sklearn.decomposition import NMF, LatentDirichletAllocation"
   ]
  },
  {
   "cell_type": "code",
   "execution_count": 92,
   "metadata": {},
   "outputs": [],
   "source": [
    "no_topics = 5"
   ]
  },
  {
   "cell_type": "code",
   "execution_count": 93,
   "metadata": {},
   "outputs": [],
   "source": [
    "# Run NMF"
   ]
  },
  {
   "cell_type": "code",
   "execution_count": 94,
   "metadata": {},
   "outputs": [],
   "source": [
    "nmf = NMF(n_components=no_topics, random_state=1, alpha=.1, l1_ratio=.5, init='nndsvd').fit(tfidf)"
   ]
  },
  {
   "cell_type": "code",
   "execution_count": 95,
   "metadata": {},
   "outputs": [],
   "source": [
    "# Run LDA"
   ]
  },
  {
   "cell_type": "code",
   "execution_count": 96,
   "metadata": {},
   "outputs": [],
   "source": [
    "lda = LatentDirichletAllocation(n_components=no_topics, max_iter=5, learning_method='online', learning_offset=50.,random_state=0).fit(tf)"
   ]
  },
  {
   "cell_type": "code",
   "execution_count": 97,
   "metadata": {},
   "outputs": [],
   "source": [
    "# display topic"
   ]
  },
  {
   "cell_type": "code",
   "execution_count": 98,
   "metadata": {},
   "outputs": [],
   "source": [
    "def display_topics(model, feature_names, no_top_words):\n",
    "    for topic_idx, topic in enumerate(model.components_):\n",
    "        print (\"Topic %d:\" % (topic_idx))\n",
    "        print (\" \".join([feature_names[i]\n",
    "                        for i in topic.argsort()[:-no_top_words - 1:-1]]))"
   ]
  },
  {
   "cell_type": "code",
   "execution_count": 99,
   "metadata": {},
   "outputs": [],
   "source": [
    "no_top_words = 8"
   ]
  },
  {
   "cell_type": "code",
   "execution_count": 100,
   "metadata": {},
   "outputs": [
    {
     "name": "stdout",
     "output_type": "stream",
     "text": [
      "Topic 0:\n",
      "surface contact improperly non properly food maintained material\n",
      "Topic 1:\n",
      "vermin attracting harborage conducive proof allowing exist conditions\n",
      "Topic 2:\n",
      "mice live present areas evidence food facility non\n",
      "Topic 3:\n",
      "contamination potential transportation protected display source storage service\n",
      "Topic 4:\n",
      "held item 140 hot smoked 38 necessary ºf\n"
     ]
    }
   ],
   "source": [
    "display_topics(nmf, tfidf_feature_names, no_top_words)"
   ]
  },
  {
   "cell_type": "code",
   "execution_count": 101,
   "metadata": {},
   "outputs": [
    {
     "name": "stdout",
     "output_type": "stream",
     "text": [
      "Topic 0:\n",
      "food held item reduced 41 preparation cold 140\n",
      "Topic 1:\n",
      "flies food facility areas present mice non live\n",
      "Topic 2:\n",
      "vermin food contact surface improperly non maintained properly\n",
      "Topic 3:\n",
      "food storage preparation service source contamination display transportation\n",
      "Topic 4:\n",
      "properly equipment required stored installed disrepair used provided\n"
     ]
    }
   ],
   "source": [
    "display_topics(lda, tf_feature_names, no_top_words)"
   ]
  }
 ],
 "metadata": {
  "kernelspec": {
   "display_name": "Python 3.6",
   "language": "python",
   "name": "python36"
  },
  "language_info": {
   "codemirror_mode": {
    "name": "ipython",
    "version": 3
   },
   "file_extension": ".py",
   "mimetype": "text/x-python",
   "name": "python",
   "nbconvert_exporter": "python",
   "pygments_lexer": "ipython3",
   "version": "3.6.3"
  }
 },
 "nbformat": 4,
 "nbformat_minor": 2
}
